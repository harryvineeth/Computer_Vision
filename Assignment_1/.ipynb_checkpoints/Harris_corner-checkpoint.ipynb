{
 "cells": [
  {
   "cell_type": "code",
   "execution_count": 48,
   "metadata": {},
   "outputs": [],
   "source": [
    "import cv2\n",
    "import numpy as np\n",
    "from matplotlib import pyplot as plt\n",
    "%matplotlib inline\n",
    "from scipy.ndimage import filters\n",
    "from skimage.draw import circle_perimeter"
   ]
  },
  {
   "cell_type": "code",
   "execution_count": 49,
   "metadata": {},
   "outputs": [],
   "source": [
    "img = cv2.imread(\"chess.png\",0)"
   ]
  },
  {
   "cell_type": "code",
   "execution_count": 26,
   "metadata": {},
   "outputs": [
    {
     "data": {
      "text/plain": [
       "<matplotlib.image.AxesImage at 0x7f2f0626c290>"
      ]
     },
     "execution_count": 26,
     "metadata": {},
     "output_type": "execute_result"
    },
    {
     "data": {
      "image/png": "[encoded data removed]",
      "text/plain": [
       "<matplotlib.figure.Figure at 0x7f2f09295e10>"
      ]
     },
     "metadata": {},
     "output_type": "display_data"
    }
   ],
   "source": [
    "plt.imshow(img,cmap='gray')"
   ]
  },
  {
   "cell_type": "code",
   "execution_count": 27,
   "metadata": {},
   "outputs": [],
   "source": [
    "def find_corners(img,window_size,ksize,k):\n",
    "    Ix = cv2.Sobel(img,cv2.CV_64F,1,0,ksize)\n",
    "    Iy = cv2.Sobel(img,cv2.CV_64F,0,1,ksize)\n",
    "    Ixx = Ix*Ix\n",
    "    Iyy = Iy*Iy\n",
    "    Ixy = np.multiply(Ix,Iy)\n",
    "    \n",
    "    Sxx = cv2.GaussianBlur(Ixx,(window_size,window_size),0)\n",
    "    Syy = cv2.GaussianBlur(Iyy,(window_size,window_size),0)\n",
    "    Sxy = cv2.GaussianBlur(Ixy,(window_size,window_size),0)\n",
    "    \n",
    "    \n",
    "    height, width = img.shape\n",
    "    corners=[]\n",
    "    offset = window_size/2\n",
    "    \n",
    "    for i in range(offset, height - offset) :\n",
    "        for j in range(offset, width - offset) :\n",
    "            \n",
    "            sxx = Sxx[i][j]\n",
    "            syy = Syy[i][j]\n",
    "            sxy = Sxy[i][j]\n",
    "            \n",
    "            det = (sxx * syy) - (sxy ** 2)\n",
    "            trace = sxx + syy\n",
    "            r = det - k * (trace ** 2)\n",
    "            corners.append([i,j,r])\n",
    "    return corners"
   ]
  },
  {
   "cell_type": "code",
   "execution_count": 28,
   "metadata": {},
   "outputs": [],
   "source": [
    "corners = find_corners(img,5,3,0.04)"
   ]
  },
  {
   "cell_type": "code",
   "execution_count": 29,
   "metadata": {},
   "outputs": [],
   "source": [
    "corners = np.array(corners)"
   ]
  },
  {
   "cell_type": "code",
   "execution_count": 34,
   "metadata": {},
   "outputs": [
    {
     "data": {
      "text/plain": [
       "10022275309.570312"
      ]
     },
     "execution_count": 34,
     "metadata": {},
     "output_type": "execute_result"
    }
   ],
   "source": [
    "0.1*max(corners[:,2])"
   ]
  },
  {
   "cell_type": "code",
   "execution_count": 8,
   "metadata": {},
   "outputs": [],
   "source": [
    "def cornercolor(img, corners, thresh, window_size):\n",
    "    res_img = img.copy()\n",
    "    res_img = cv2.cvtColor(res_img,cv2.COLOR_GRAY2RGB)\n",
    "    \n",
    "    offset = window_size/2\n",
    "    height, width = img.shape\n",
    "    \n",
    "    count = 0;\n",
    "    no_of_corners = 0\n",
    "    for i in range(offset, height - offset) :\n",
    "        for j in range(offset, width - offset) :\n",
    "            \n",
    "            if( corners[count][2] > thresh ) :\n",
    "                no_of_corners = no_of_corners + 1\n",
    "                rr, cc = circle_perimeter(i, j, 1)\n",
    "                res_img[rr, cc] = [255,0,0]\n",
    "            count = count + 1\n",
    "    return res_img, no_of_corners"
   ]
  },
  {
   "cell_type": "code",
   "execution_count": 45,
   "metadata": {},
   "outputs": [],
   "source": [
    "result , cornerlist = cornercolor(img,corners,0.1*max(corners[:,2]),5)"
   ]
  },
  {
   "cell_type": "code",
   "execution_count": 46,
   "metadata": {},
   "outputs": [
    {
     "data": {
      "text/plain": [
       "<matplotlib.image.AxesImage at 0x7f2f046c72d0>"
      ]
     },
     "execution_count": 46,
     "metadata": {},
     "output_type": "execute_result"
    },
    {
     "data": {
      "image/png": "[encoded data removed]",
      "text/plain": [
       "<matplotlib.figure.Figure at 0x7f2f06058310>"
      ]
     },
     "metadata": {},
     "output_type": "display_data"
    }
   ],
   "source": [
    "plt.imshow(result,cmap='gray')"
   ]
  },
  {
   "cell_type": "code",
   "execution_count": 47,
   "metadata": {},
   "outputs": [
    {
     "data": {
      "text/plain": [
       "600"
      ]
     },
     "execution_count": 47,
     "metadata": {},
     "output_type": "execute_result"
    }
   ],
   "source": [
    "cornerlist"
   ]
  },
  {
   "cell_type": "code",
   "execution_count": null,
   "metadata": {},
   "outputs": [],
   "source": []
  },
  {
   "cell_type": "code",
   "execution_count": null,
   "metadata": {},
   "outputs": [],
   "source": []
  }
 ],
 "metadata": {
  "kernelspec": {
   "display_name": "Python 2",
   "language": "python",
   "name": "python2"
  },
  "language_info": {
   "codemirror_mode": {
    "name": "ipython",
    "version": 2
   },
   "file_extension": ".py",
   "mimetype": "text/x-python",
   "name": "python",
   "nbconvert_exporter": "python",
   "pygments_lexer": "ipython2",
   "version": "2.7.12"
  }
 },
 "nbformat": 4,
 "nbformat_minor": 2
}
